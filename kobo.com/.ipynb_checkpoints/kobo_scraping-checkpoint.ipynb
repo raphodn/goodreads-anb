{
 "cells": [
  {
   "cell_type": "markdown",
   "metadata": {},
   "source": [
    "# Step-by-step\n",
    "\n",
    "0. You need the book's ISBN (ISBN-13)\n",
    "1. Check goodreads that the book is indeed missing\n",
    "2. Google the ISBN, find the kobo.com link, and copy\n",
    "3. Scrap the kobo.com link. Get the book details\n",
    "4. Push the book details to goodreads\n",
    "5. Merge the ebook version to the corresponding paperback/kindle version of the book"
   ]
  },
  {
   "cell_type": "markdown",
   "metadata": {},
   "source": [
    "## Useful Goodreads API methods\n",
    "\n",
    "https://www.goodreads.com/api/index#book.isbn_to_id\n",
    "https://www.goodreads.com/api/index#book.id_to_work_id\n",
    "\n"
   ]
  },
  {
   "cell_type": "markdown",
   "metadata": {},
   "source": [
    "## Problem\n",
    "\n",
    "There is no Goodreads API to create a book..."
   ]
  },
  {
   "cell_type": "code",
   "execution_count": null,
   "metadata": {},
   "outputs": [],
   "source": []
  }
 ],
 "metadata": {
  "kernelspec": {
   "display_name": "Python 3",
   "language": "python",
   "name": "python3"
  },
  "language_info": {
   "codemirror_mode": {
    "name": "ipython",
    "version": 3
   },
   "file_extension": ".py",
   "mimetype": "text/x-python",
   "name": "python",
   "nbconvert_exporter": "python",
   "pygments_lexer": "ipython3",
   "version": "3.6.7"
  }
 },
 "nbformat": 4,
 "nbformat_minor": 2
}
